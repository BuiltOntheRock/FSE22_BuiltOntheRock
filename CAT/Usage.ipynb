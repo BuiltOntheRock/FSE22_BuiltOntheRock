{
 "cells": [
  {
   "cell_type": "code",
   "execution_count": 1,
   "id": "06c04720",
   "metadata": {},
   "outputs": [],
   "source": [
    "from noise_detection import *\n",
    "from rule_cleaner import RuleCleaner"
   ]
  },
  {
   "cell_type": "markdown",
   "id": "54c3ae70",
   "metadata": {},
   "source": [
    "# Feature"
   ]
  },
  {
   "cell_type": "markdown",
   "id": "053bce59",
   "metadata": {},
   "source": [
    "## 1. Get first sentence of comment"
   ]
  },
  {
   "cell_type": "code",
   "execution_count": 2,
   "id": "0a4e4a2b",
   "metadata": {},
   "outputs": [
    {
     "name": "stdout",
     "output_type": "stream",
     "text": [
      "\t/**\n",
      "\t * Returns the high-value (as a double primitive) \n",
      "\t * for an item within a series.\n",
      "\t * \n",
      "\t * @param series\n",
      "\t * @param item \n",
      "\t * @return The high-value.\n",
      "\t */\n",
      " \n"
     ]
    }
   ],
   "source": [
    "raw_comment = \"\\t/**\\n\\t * Returns the high-value (as a double primitive) \\n\\t * for an item within a series.\\n\\t \" \\\n",
    "                  \"* \\n\\t * @param series\\n\\t * @param item \\n\\t * @return The high-value.\\n\\t */\\n \"\n",
    "print(raw_comment)"
   ]
  },
  {
   "cell_type": "code",
   "execution_count": 3,
   "id": "9bd522c0",
   "metadata": {},
   "outputs": [
    {
     "data": {
      "text/plain": [
       "'Returns the high-value (as a double primitive) for an item within a series.'"
      ]
     },
     "execution_count": 3,
     "metadata": {},
     "output_type": "execute_result"
    }
   ],
   "source": [
    "getFirstSentence(raw_comment)\n",
    "# the benchmark comment in Funcom is 'Returns the high-value (as a double primitive)'"
   ]
  },
  {
   "cell_type": "markdown",
   "id": "4624a9ff",
   "metadata": {},
   "source": [
    "## 2. Noise Detection"
   ]
  },
  {
   "cell_type": "code",
   "execution_count": 4,
   "id": "faa1d38c",
   "metadata": {},
   "outputs": [
    {
     "name": "stdout",
     "output_type": "stream",
     "text": [
      "\t/**\n",
      "\t * Creates a new adapter for an object of class '{@link org.jsenna.eclipse.schema.dictionary.AbstractDataGroup <em>Abstract Data Group</em>}'.\n",
      "\t * <!-- begin-user-doc -->\n",
      "\t * This default implementation returns null so that we can easily ignore cases;\n",
      "\t * it's useful to ignore a case when inheritance will catch all the cases anyway.\n",
      "\t * <!-- end-user-doc -->\n",
      "\t * @return the new adapter.\n",
      "\t * @see org.jsenna.eclipse.schema.dictionary.AbstractDataGroup\n",
      "\t * @generated\n",
      "\t */\n",
      " \n",
      "Creates a new adapter for an object of class '{@link org.jsenna.eclipse.schema.dictionary.AbstractDataGroup <em>Abstract Data Group</em>}'.\n",
      "True\n"
     ]
    }
   ],
   "source": [
    "## Content Tamering\n",
    "raw_comment = \"\\t/**\\n\\t * Creates a new adapter for an object of class '{@link \" \\\n",
    "                  \"org.jsenna.eclipse.schema.dictionary.AbstractDataGroup <em>Abstract Data Group</em>}'.\\n\\t * <!-- \" \\\n",
    "                  \"begin-user-doc -->\\n\\t * This default implementation returns null so that we can easily ignore \" \\\n",
    "                  \"cases;\\n\\t * it's useful to ignore a case when inheritance will catch all the cases anyway.\\n\\t * \" \\\n",
    "                  \"<!-- end-user-doc -->\\n\\t * @return the new adapter.\\n\\t * @see \" \\\n",
    "                  \"org.jsenna.eclipse.schema.dictionary.AbstractDataGroup\\n\\t * @generated\\n\\t */\\n \"\n",
    "comment = getFirstSentence(raw_comment)\n",
    "print(raw_comment)\n",
    "print(comment)\n",
    "print(if_ContentTamper(comment))"
   ]
  },
  {
   "cell_type": "code",
   "execution_count": 5,
   "id": "dddad6c7",
   "metadata": {},
   "outputs": [
    {
     "name": "stdout",
     "output_type": "stream",
     "text": [
      "/**\n",
      "     * relayTbListとの外部結合をテストします。\n",
      "     * \n",
      "     * @throws Exception\n",
      "     */\n",
      " \n",
      "relayTbListとの外部結合をテストします。\n",
      "True\n"
     ]
    }
   ],
   "source": [
    "## Non-Literal\n",
    "raw_comment = \"/**\\n     * relayTbList\\u3068\\u306e\\u5916\\u90e8\\u7d50\\u5408\\u3092\\u30c6\\u30b9\\u30c8\\u3057\\u307e\" \\\n",
    "                  \"\\u3059\\u3002\\n     * \\n     * @throws Exception\\n     */\\n \"\n",
    "comment = getFirstSentence(raw_comment)\n",
    "print(raw_comment)\n",
    "print(comment)\n",
    "print(if_NonLiteral(comment))"
   ]
  },
  {
   "cell_type": "code",
   "execution_count": 6,
   "id": "1728ad7f",
   "metadata": {},
   "outputs": [
    {
     "name": "stdout",
     "output_type": "stream",
     "text": [
      "\t/**\n",
      "\t * NOT IMPLEMENTED YET\n",
      "\t */\n",
      "\n",
      "NOT IMPLEMENTED YET\n",
      "True\n"
     ]
    }
   ],
   "source": [
    "## Under-Development \n",
    "raw_comment = '\\t/**\\n\\t * NOT IMPLEMENTED YET\\n\\t */\\n'\n",
    "comment = getFirstSentence(raw_comment)\n",
    "print(raw_comment)\n",
    "print(comment)\n",
    "print(if_UnderDevelop(comment))"
   ]
  },
  {
   "cell_type": "code",
   "execution_count": 7,
   "id": "9c28a109",
   "metadata": {},
   "outputs": [
    {
     "name": "stdout",
     "output_type": "stream",
     "text": [
      "\tpublic void\n",
      "\tpreinitPage() { }\n",
      "\n",
      "True\n"
     ]
    }
   ],
   "source": [
    "## Empty Function\n",
    "raw_code = \"\\tpublic void\\n\\tpreinitPage() { }\\n\"\n",
    "print(raw_code)\n",
    "print(if_EmptyFunc(raw_code))"
   ]
  },
  {
   "cell_type": "code",
   "execution_count": 8,
   "id": "2ca253bf",
   "metadata": {},
   "outputs": [
    {
     "name": "stdout",
     "output_type": "stream",
     "text": [
      "    //    public String transformTypeID(URI typeuri) {\n",
      "    //\treturn typeuri.toString();\n",
      "    //    }\n",
      "\n",
      "True\n"
     ]
    }
   ],
   "source": [
    "## CommentedOut\n",
    "raw_code = \"    //    public String transformTypeID(URI typeuri) {\\n    //\\treturn typeuri.toString();\\n    //    }\\n\"\n",
    "print(raw_code)\n",
    "print(if_CommentedOut(raw_code))"
   ]
  },
  {
   "cell_type": "code",
   "execution_count": 9,
   "id": "146443d4",
   "metadata": {},
   "outputs": [
    {
     "name": "stdout",
     "output_type": "stream",
     "text": [
      "\tpublic int compareTo(Inparalog inpara) {\n",
      "\t\t// sort by 2 digits after .\n",
      "\t\treturn (int) (inpara.confidence * 100 - confidence * 100);\n",
      "\t}\n",
      "\n",
      "False\n",
      "True\n"
     ]
    }
   ],
   "source": [
    "## BlockComment\n",
    "raw_code = \"\\tpublic int compareTo(Inparalog inpara) {\\n\\t\\t// sort by 2 digits after .\\n\\t\\treturn (int) (inpara.confidence * 100 - confidence * 100);\\n\\t}\\n\"\n",
    "print(raw_code)\n",
    "print(if_CommentedOut(raw_code))\n",
    "print(if_BlockComment(raw_code))"
   ]
  },
  {
   "cell_type": "markdown",
   "id": "7af126a5",
   "metadata": {},
   "source": [
    "## 3. Clean Dataset"
   ]
  },
  {
   "cell_type": "code",
   "execution_count": 10,
   "id": "02eac3ad",
   "metadata": {},
   "outputs": [
    {
     "data": {
      "text/plain": [
       "2000"
      ]
     },
     "execution_count": 10,
     "metadata": {},
     "output_type": "execute_result"
    }
   ],
   "source": [
    "# prepare code-comment data that may contain noises\n",
    "with open('./test.data', 'r') as f:\n",
    "    data_lines = f.readlines()\n",
    "import json\n",
    "\n",
    "raw_code_list, raw_comment_list = [], []\n",
    "for line in data_lines:\n",
    "    json_line = json.loads(line.strip())\n",
    "    raw_code_list.append(json_line['raw_code'])\n",
    "    raw_comment_list.append(json_line['raw_comment'])\n",
    "len(raw_code_list)"
   ]
  },
  {
   "cell_type": "code",
   "execution_count": 11,
   "id": "b9fe9d6c",
   "metadata": {},
   "outputs": [
    {
     "name": "stderr",
     "output_type": "stream",
     "text": [
      "2000it [00:00, 11149.80it/s]\n"
     ]
    },
    {
     "data": {
      "text/plain": [
       "1124"
      ]
     },
     "execution_count": 11,
     "metadata": {},
     "output_type": "execute_result"
    }
   ],
   "source": [
    "# get the cleaned code-comment data\n",
    "cleaner = RuleCleaner(raw_code_list, raw_comment_list)\n",
    "cleaned_code, cleaned_comment = cleaner.get_clean_data()\n",
    "len(cleaned_code)"
   ]
  },
  {
   "cell_type": "code",
   "execution_count": 12,
   "id": "88d36584",
   "metadata": {},
   "outputs": [],
   "source": [
    "# get the noisy code-comment data that have been removed or updated\n",
    "noisy_data = cleaner.get_noisy_data()"
   ]
  },
  {
   "cell_type": "code",
   "execution_count": 13,
   "id": "ad5f0a67",
   "metadata": {},
   "outputs": [
    {
     "name": "stdout",
     "output_type": "stream",
     "text": [
      "  /**\n",
      "   * Is this pool currently having something in cache?\n",
      "   */\n",
      " \n",
      "\n",
      "  /**\n",
      "   * Is any life-cycle phase defined at all?\n",
      "   */\n",
      " \n",
      "\n",
      "  /**\n",
      "   * Is the val1 attribute set?\n",
      "   */\n",
      " \n",
      "\n",
      "  /**\n",
      "   * Is the val2 attribute set?\n",
      "   */\n",
      " \n",
      "\n",
      "  /**\n",
      "   * Is this registration eagerly instantiated?\n",
      "   */\n",
      " \n",
      "\n",
      "  /**\n",
      "   * Is the a property explicitly specified?\n",
      "   * @param key the property key.\n",
      "   */\n",
      " \n",
      "\n",
      "  /**\n",
      "   * When no property names is specified, no property values are set,\n",
      "   * do we by default create a bean component?\n",
      "   */\n",
      " \n",
      "\n",
      "  /**\n",
      "   * Is wildcard used?\n",
      "   */\n",
      " \n",
      "\n",
      "  /**\n",
      "   * Is this a collection nut?\n",
      "   * <p>\n",
      "   * A collection nut is one that has a <code>set</code> with\n",
      "   * an array parameter.\n",
      "   * </p>\n",
      "   */\n",
      " \n",
      "\n",
      "  /**\n",
      "   * Is this tag defined globally?\n",
      "   */\n",
      " \n",
      "\n",
      "    /**\n",
      "     * How useful is ontology annotation for integration across [phylogenetic] studies?\n",
      "     * @throws IOException \n",
      "     */\n",
      " \n",
      "\n"
     ]
    }
   ],
   "source": [
    "for raw_code, raw_comment in noisy_data['Interrogation']:\n",
    "    print(raw_comment,'\\n')"
   ]
  },
  {
   "cell_type": "code",
   "execution_count": 14,
   "id": "a61fd248",
   "metadata": {},
   "outputs": [
    {
     "name": "stdout",
     "output_type": "stream",
     "text": [
      "  /*protected void checkSingleChild(Object[] vals){\n",
      "    if(vals.length>1)\n",
      "      throw raise(\"only one sub-element is allowed\");\n",
      "  }*/\n",
      " \n",
      "\n",
      "//            \tpublic double get(int index) {\n",
      "//            \t\treturn buffer[(startIndex + index) % buffer.length];\n",
      "//            \t}\n",
      " \n",
      "\n"
     ]
    }
   ],
   "source": [
    "for raw_code, raw_comment in noisy_data['CommentOut']:\n",
    "    print(raw_code,'\\n')"
   ]
  },
  {
   "cell_type": "code",
   "execution_count": null,
   "id": "4549f34a",
   "metadata": {},
   "outputs": [],
   "source": []
  }
 ],
 "metadata": {
  "kernelspec": {
   "display_name": "Python 3.9.6 64-bit ('torch': conda)",
   "language": "python",
   "name": "python396jvsc74a57bd0840b794cc461fd88722f2b9c9a6a3f3e59f5891ec4942269658ba603fab4f675"
  },
  "language_info": {
   "codemirror_mode": {
    "name": "ipython",
    "version": 3
   },
   "file_extension": ".py",
   "mimetype": "text/x-python",
   "name": "python",
   "nbconvert_exporter": "python",
   "pygments_lexer": "ipython3",
   "version": "3.9.6"
  }
 },
 "nbformat": 4,
 "nbformat_minor": 5
}
